{
 "cells": [
  {
   "cell_type": "markdown",
   "id": "a6715454",
   "metadata": {},
   "source": [
    "# Escalado de Datos: Min-Max y Estandarización (Z-score)"
   ]
  },
  {
   "cell_type": "code",
   "execution_count": 1,
   "id": "48fd9d17",
   "metadata": {},
   "outputs": [
    {
     "data": {
      "text/plain": [
       "['Inches',\n",
       " 'Ram',\n",
       " 'Weight',\n",
       " 'PriceEuros',\n",
       " 'CPUFrequency',\n",
       " 'PrimaryStorage',\n",
       " 'SecondaryStorage']"
      ]
     },
     "execution_count": 1,
     "metadata": {},
     "output_type": "execute_result"
    }
   ],
   "source": [
    "\n",
    "import pandas as pd\n",
    "from sklearn.preprocessing import MinMaxScaler, StandardScaler\n",
    "\n",
    "# Cargar dataset\n",
    "df = pd.read_csv(\"data/fact_laptops_preprocesado.csv\")\n",
    "\n",
    "# Verificar columnas numéricas (ignoramos LaptopID)\n",
    "numeric_cols = df.select_dtypes(include=[\"float64\", \"int64\"]).drop(columns=[\"LaptopID\"], errors='ignore').columns.tolist()\n",
    "numeric_cols\n"
   ]
  },
  {
   "cell_type": "markdown",
   "id": "bf854ccf",
   "metadata": {},
   "source": [
    "## Aplicación de Escalado Min-Max a la columna 'Weight'"
   ]
  },
  {
   "cell_type": "code",
   "execution_count": 2,
   "id": "f37dfa89",
   "metadata": {},
   "outputs": [
    {
     "data": {
      "text/html": [
       "<div>\n",
       "<style scoped>\n",
       "    .dataframe tbody tr th:only-of-type {\n",
       "        vertical-align: middle;\n",
       "    }\n",
       "\n",
       "    .dataframe tbody tr th {\n",
       "        vertical-align: top;\n",
       "    }\n",
       "\n",
       "    .dataframe thead th {\n",
       "        text-align: right;\n",
       "    }\n",
       "</style>\n",
       "<table border=\"1\" class=\"dataframe\">\n",
       "  <thead>\n",
       "    <tr style=\"text-align: right;\">\n",
       "      <th></th>\n",
       "      <th>Weight</th>\n",
       "      <th>Weight_MinMax</th>\n",
       "    </tr>\n",
       "  </thead>\n",
       "  <tbody>\n",
       "    <tr>\n",
       "      <th>0</th>\n",
       "      <td>2.84</td>\n",
       "      <td>0.736</td>\n",
       "    </tr>\n",
       "    <tr>\n",
       "      <th>1</th>\n",
       "      <td>1.55</td>\n",
       "      <td>0.220</td>\n",
       "    </tr>\n",
       "    <tr>\n",
       "      <th>2</th>\n",
       "      <td>2.51</td>\n",
       "      <td>0.604</td>\n",
       "    </tr>\n",
       "    <tr>\n",
       "      <th>3</th>\n",
       "      <td>3.14</td>\n",
       "      <td>0.856</td>\n",
       "    </tr>\n",
       "    <tr>\n",
       "      <th>4</th>\n",
       "      <td>2.34</td>\n",
       "      <td>0.536</td>\n",
       "    </tr>\n",
       "  </tbody>\n",
       "</table>\n",
       "</div>"
      ],
      "text/plain": [
       "   Weight  Weight_MinMax\n",
       "0    2.84          0.736\n",
       "1    1.55          0.220\n",
       "2    2.51          0.604\n",
       "3    3.14          0.856\n",
       "4    2.34          0.536"
      ]
     },
     "execution_count": 2,
     "metadata": {},
     "output_type": "execute_result"
    }
   ],
   "source": [
    "\n",
    "# Aplicar Min-Max Scaling a la columna 'Weight'\n",
    "scaler_minmax = MinMaxScaler()\n",
    "df['Weight_MinMax'] = scaler_minmax.fit_transform(df[['Weight']])\n",
    "\n",
    "# Mostrar valores originales y transformados\n",
    "df[['Weight', 'Weight_MinMax']].head()\n"
   ]
  },
  {
   "cell_type": "markdown",
   "id": "2b6aee4a",
   "metadata": {},
   "source": [
    "## Aplicación de Estandarización (Z-score) a la columna 'PriceEuros'"
   ]
  },
  {
   "cell_type": "code",
   "execution_count": 3,
   "id": "eb07ccf0",
   "metadata": {},
   "outputs": [
    {
     "data": {
      "text/html": [
       "<div>\n",
       "<style scoped>\n",
       "    .dataframe tbody tr th:only-of-type {\n",
       "        vertical-align: middle;\n",
       "    }\n",
       "\n",
       "    .dataframe tbody tr th {\n",
       "        vertical-align: top;\n",
       "    }\n",
       "\n",
       "    .dataframe thead th {\n",
       "        text-align: right;\n",
       "    }\n",
       "</style>\n",
       "<table border=\"1\" class=\"dataframe\">\n",
       "  <thead>\n",
       "    <tr style=\"text-align: right;\">\n",
       "      <th></th>\n",
       "      <th>PriceEuros</th>\n",
       "      <th>PriceEuros_Zscore</th>\n",
       "    </tr>\n",
       "  </thead>\n",
       "  <tbody>\n",
       "    <tr>\n",
       "      <th>0</th>\n",
       "      <td>2127.09</td>\n",
       "      <td>0.618657</td>\n",
       "    </tr>\n",
       "    <tr>\n",
       "      <th>1</th>\n",
       "      <td>1891.02</td>\n",
       "      <td>0.313119</td>\n",
       "    </tr>\n",
       "    <tr>\n",
       "      <th>2</th>\n",
       "      <td>2479.25</td>\n",
       "      <td>1.074446</td>\n",
       "    </tr>\n",
       "    <tr>\n",
       "      <th>3</th>\n",
       "      <td>2639.51</td>\n",
       "      <td>1.281865</td>\n",
       "    </tr>\n",
       "    <tr>\n",
       "      <th>4</th>\n",
       "      <td>960.99</td>\n",
       "      <td>-0.890588</td>\n",
       "    </tr>\n",
       "  </tbody>\n",
       "</table>\n",
       "</div>"
      ],
      "text/plain": [
       "   PriceEuros  PriceEuros_Zscore\n",
       "0     2127.09           0.618657\n",
       "1     1891.02           0.313119\n",
       "2     2479.25           1.074446\n",
       "3     2639.51           1.281865\n",
       "4      960.99          -0.890588"
      ]
     },
     "execution_count": 3,
     "metadata": {},
     "output_type": "execute_result"
    }
   ],
   "source": [
    "\n",
    "# Aplicar Z-score Scaling a la columna 'PriceEuros'\n",
    "scaler_zscore = StandardScaler()\n",
    "df['PriceEuros_Zscore'] = scaler_zscore.fit_transform(df[['PriceEuros']])\n",
    "\n",
    "# Mostrar valores originales y transformados\n",
    "df[['PriceEuros', 'PriceEuros_Zscore']].head()\n"
   ]
  }
 ],
 "metadata": {
  "kernelspec": {
   "display_name": "venv (3.11.9)",
   "language": "python",
   "name": "python3"
  },
  "language_info": {
   "codemirror_mode": {
    "name": "ipython",
    "version": 3
   },
   "file_extension": ".py",
   "mimetype": "text/x-python",
   "name": "python",
   "nbconvert_exporter": "python",
   "pygments_lexer": "ipython3",
   "version": "3.11.9"
  }
 },
 "nbformat": 4,
 "nbformat_minor": 5
}
