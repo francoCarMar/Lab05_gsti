{
 "cells": [
  {
   "cell_type": "markdown",
   "id": "92cb7311-e65c-436c-b2bb-da0332da2291",
   "metadata": {},
   "source": [
    "### Paso 0: Datos para su aplicación"
   ]
  },
  {
   "cell_type": "code",
   "execution_count": 10,
   "id": "8b20a676-3cd0-4302-beaf-5572821d5dd6",
   "metadata": {},
   "outputs": [
    {
     "name": "stdout",
     "output_type": "stream",
     "text": [
      "   clientes_dia  horas_abierto  publicidad_soles  promociones_activas  \\\n",
      "0           122       4.096825        935.878755                    4   \n",
      "1           199       4.072308        866.527827                    4   \n",
      "2           112       6.856235        724.295798                    3   \n",
      "3            34      11.409553        508.113969                    1   \n",
      "4           126       5.829414        544.307445                    1   \n",
      "\n",
      "   empleados_turno  precio_promedio  visitas_redes  productos_vendidos  \\\n",
      "0                9        40.141186            568                 400   \n",
      "1                6        46.723270            271                 498   \n",
      "2                9        49.547073            126                 216   \n",
      "3                3        31.157723            387                 182   \n",
      "4                4         9.899673            912                 412   \n",
      "\n",
      "   tiempo_espera_min  ticket_promedio  \n",
      "0          12.226162       114.214809  \n",
      "1           6.279561       177.175712  \n",
      "2          10.908209       165.275646  \n",
      "3          12.721215       178.716475  \n",
      "4          14.481799       127.088435  \n"
     ]
    }
   ],
   "source": [
    "import pandas as pd\n",
    "\n",
    "# Cargar el archivo CSV\n",
    "df = pd.read_csv(\"data/X_ventas.csv\")\n",
    "\n",
    "# Seleccionar solo las columnas numéricas excepto la columna 'ventas_soles'\n",
    "X = df.select_dtypes(include='number').drop(columns=['ventas_soles'])\n",
    "\n",
    "# Mostrar las primeras filas de la variable X\n",
    "print(X.head())"
   ]
  },
  {
   "cell_type": "markdown",
   "id": "5b1cb5dd",
   "metadata": {},
   "source": [
    "### Paso 1: Cálculo de la media\n",
    "Se calcula la media de cada variable numérica."
   ]
  },
  {
   "cell_type": "code",
   "execution_count": 11,
   "id": "e6aae7f7",
   "metadata": {},
   "outputs": [
    {
     "name": "stdout",
     "output_type": "stream",
     "text": [
      "Media de cada variable:\n",
      "clientes_dia           110.254000\n",
      "horas_abierto            7.957854\n",
      "publicidad_soles       518.289960\n",
      "promociones_activas      1.988000\n",
      "empleados_turno          4.986500\n",
      "precio_promedio         27.830179\n",
      "visitas_redes          527.024750\n",
      "productos_vendidos     262.248250\n",
      "tiempo_espera_min        8.104006\n",
      "ticket_promedio        104.579461\n",
      "dtype: float64\n"
     ]
    }
   ],
   "source": [
    "medias = X.mean()\n",
    "print('Media de cada variable:')\n",
    "print(medias)"
   ]
  },
  {
   "cell_type": "markdown",
   "id": "9d6c7d1b",
   "metadata": {},
   "source": [
    "### Paso 2: Centrado de los datos\n",
    "Se resta la media a cada valor para centrar los datos."
   ]
  },
  {
   "cell_type": "code",
   "execution_count": 12,
   "id": "c7c432b9",
   "metadata": {},
   "outputs": [
    {
     "name": "stdout",
     "output_type": "stream",
     "text": [
      "Primeras filas de los datos centrados:\n",
      "   clientes_dia  horas_abierto  publicidad_soles  promociones_activas  \\\n",
      "0        11.746      -3.861029        417.588795                2.012   \n",
      "1        88.746      -3.885547        348.237867                2.012   \n",
      "2         1.746      -1.101620        206.005838                1.012   \n",
      "3       -76.254       3.451698        -10.175991               -0.988   \n",
      "4        15.746      -2.128440         26.017485               -0.988   \n",
      "\n",
      "   empleados_turno  precio_promedio  visitas_redes  productos_vendidos  \\\n",
      "0           4.0135        12.311007       40.97525           137.75175   \n",
      "1           1.0135        18.893090     -256.02475           235.75175   \n",
      "2           4.0135        21.716893     -401.02475           -46.24825   \n",
      "3          -1.9865         3.327543     -140.02475           -80.24825   \n",
      "4          -0.9865       -17.930507      384.97525           149.75175   \n",
      "\n",
      "   tiempo_espera_min  ticket_promedio  \n",
      "0           4.122156         9.635348  \n",
      "1          -1.824445        72.596251  \n",
      "2           2.804202        60.696185  \n",
      "3           4.617209        74.137014  \n",
      "4           6.377793        22.508973  \n"
     ]
    }
   ],
   "source": [
    "X_centrado = X - medias\n",
    "print('Primeras filas de los datos centrados:')\n",
    "print(X_centrado.head())"
   ]
  },
  {
   "cell_type": "markdown",
   "id": "285f10f4",
   "metadata": {},
   "source": [
    "### Paso 3: Matriz de covarianza\n",
    "Calculamos la matriz de covarianza de los datos centrados."
   ]
  },
  {
   "cell_type": "code",
   "execution_count": 13,
   "id": "3c904330",
   "metadata": {},
   "outputs": [
    {
     "name": "stdout",
     "output_type": "stream",
     "text": [
      "Matriz de covarianza:\n",
      "[[ 2.75780944e+03  1.43548489e+00 -1.53509942e+02 -5.68594149e-01\n",
      "   2.55956889e+00 -1.45684310e+01 -3.13378131e+02 -1.17346642e+02\n",
      "  -9.93398825e-01 -1.16097527e+01]\n",
      " [ 1.43548489e+00  5.30195396e+00  7.80912537e+00  8.68176038e-02\n",
      "  -4.81230981e-03 -4.70793864e-01  1.00583518e+01  2.54010127e+00\n",
      "  -8.03288633e-02  2.40862394e+00]\n",
      " [-1.53509942e+02  7.80912537e+00  7.30719730e+04  3.78820473e+00\n",
      "  -5.03519670e+00 -4.48737147e-01  1.72351775e+02  3.21732438e+02\n",
      "   1.53435171e+01 -5.21092666e+02]\n",
      " [-5.68594149e-01  8.68176038e-02  3.78820473e+00  1.99835559e+00\n",
      "  -1.00937234e-01 -2.45280586e-01 -1.01779975e+01  3.72993248e-03\n",
      "  -8.75876800e-02 -9.44608946e-01]\n",
      " [ 2.55956889e+00 -4.81230981e-03 -5.03519670e+00 -1.00937234e-01\n",
      "   6.71799725e+00  1.62003744e-01  1.15632249e+01  2.54798837e+00\n",
      "   6.24737841e-02  2.60954266e-01]\n",
      " [-1.45684310e+01 -4.70793864e-01 -4.48737147e-01 -2.45280586e-01\n",
      "   1.62003744e-01  1.68846898e+02  6.53714785e+01 -5.06824690e+00\n",
      "  -2.59894616e-01  3.83996813e+00]\n",
      " [-3.13378131e+02  1.00583518e+01  1.72351775e+02 -1.01779975e+01\n",
      "   1.15632249e+01  6.53714785e+01  7.54272860e+04 -3.38177939e+02\n",
      "  -1.73633693e+00 -5.25938053e+02]\n",
      " [-1.17346642e+02  2.54010127e+00  3.21732438e+02  3.72993248e-03\n",
      "   2.54798837e+00 -5.06824690e+00 -3.38177939e+02  1.87610804e+04\n",
      "  -9.02212805e+00 -1.47466610e+02]\n",
      " [-9.93398825e-01 -8.03288633e-02  1.53435171e+01 -8.75876800e-02\n",
      "   6.24737841e-02 -2.59894616e-01 -1.73633693e+00 -9.02212805e+00\n",
      "   1.59705964e+01  1.36791235e+00]\n",
      " [-1.16097527e+01  2.40862394e+00 -5.21092666e+02 -9.44608946e-01\n",
      "   2.60954266e-01  3.83996813e+00 -5.25938053e+02 -1.47466610e+02\n",
      "   1.36791235e+00  3.00757778e+03]]\n"
     ]
    }
   ],
   "source": [
    "import numpy as np\n",
    "matriz_cov = np.cov(X_centrado.T)\n",
    "print('Matriz de covarianza:')\n",
    "print(matriz_cov)"
   ]
  },
  {
   "cell_type": "markdown",
   "id": "abd3b124",
   "metadata": {},
   "source": [
    "### Paso 4: Autovalores y autovectores\n",
    "Calculamos los autovalores y autovectores de la matriz de covarianza."
   ]
  },
  {
   "cell_type": "code",
   "execution_count": 14,
   "id": "53fdb8cf",
   "metadata": {},
   "outputs": [
    {
     "name": "stdout",
     "output_type": "stream",
     "text": [
      "Autovalores:\n",
      "[7.54474212e+04 7.30651946e+04 1.87594035e+04 2.75427444e+03\n",
      " 2.99959757e+03 1.68705748e+02 1.59631035e+01 1.99106981e+00\n",
      " 5.29666624e+00 6.71440862e+00]\n",
      "Autovectores:\n",
      "[[-4.44472148e-03 -1.85873662e-03 -7.38224307e-03 -9.97768680e-01\n",
      "   6.59391764e-02  5.52946208e-03 -3.76653880e-04 -2.25143516e-04\n",
      "   5.35923895e-04 -9.60834627e-04]\n",
      " [ 1.40051600e-04  9.64146295e-05  1.34292033e-04 -6.12045861e-04\n",
      "  -8.20438557e-04 -2.90194644e-03  7.73989745e-03  2.65054225e-02\n",
      "  -9.99595417e-01 -6.08636159e-03]\n",
      " [ 7.35981768e-02  9.97240028e-01 -6.05212926e-03 -2.61783679e-03\n",
      "  -7.21720891e-03  8.90730389e-06  2.13038129e-04  4.62598736e-05\n",
      "   1.15634311e-04  7.04009055e-05]\n",
      " [-1.30709094e-04  6.20654497e-05 -3.50205131e-06  2.42434194e-04\n",
      "   3.16617199e-04 -1.43064882e-03  6.45935147e-03 -9.99415663e-01\n",
      "  -2.63204110e-02 -2.07754301e-02]\n",
      " [ 1.47577788e-04 -8.02497168e-05  1.39954485e-04 -9.58287615e-04\n",
      "  -5.30861921e-05  1.02849461e-03 -7.22926442e-03 -2.06543117e-02\n",
      "  -6.69319743e-03  9.99737121e-01]\n",
      " [ 8.66386844e-04 -7.26007757e-05 -2.47992083e-04  5.41881962e-03\n",
      "  -1.83690296e-03  9.99975927e-01 -1.71170819e-03 -1.34176142e-03\n",
      "  -2.94701475e-03 -1.08357090e-03]\n",
      " [ 9.97232314e-01 -7.36252109e-02  5.85809632e-03 -4.81440943e-03\n",
      "  -6.98210700e-03 -8.54616597e-04 -2.15815940e-05 -1.37716574e-04\n",
      "   1.41721681e-04 -1.60096857e-04]\n",
      " [-5.50222610e-03  6.38945664e-03  9.99893385e-01 -7.96808200e-03\n",
      "  -8.84720221e-03  2.79542101e-04 -4.84552780e-04 -1.12896298e-05\n",
      "   1.42367254e-04 -1.49830326e-04]\n",
      " [-7.41132322e-06  2.10321191e-04 -4.87082262e-04  3.43196727e-04\n",
      "  -4.85514661e-04 -1.75382150e-03 -9.99921267e-01 -6.09935346e-03\n",
      "  -7.85381828e-03 -7.40699444e-03]\n",
      " [-7.75770697e-03 -6.87794814e-03 -9.35089778e-03 -6.58278502e-02\n",
      "  -9.97731691e-01 -1.46942931e-03  4.63815393e-04 -3.46560106e-04\n",
      "   8.55550374e-04 -1.10742538e-04]]\n"
     ]
    }
   ],
   "source": [
    "from numpy.linalg import eig\n",
    "autovalores, autovectores = eig(matriz_cov)\n",
    "print('Autovalores:')\n",
    "print(autovalores)\n",
    "print('Autovectores:')\n",
    "print(autovectores)"
   ]
  },
  {
   "cell_type": "markdown",
   "id": "57f0b8ab",
   "metadata": {},
   "source": [
    "### Paso 5: Ordenamiento\n",
    "Ordenamos los autovectores según los autovalores de mayor a menor."
   ]
  },
  {
   "cell_type": "code",
   "execution_count": 15,
   "id": "53b8a40a",
   "metadata": {},
   "outputs": [
    {
     "name": "stdout",
     "output_type": "stream",
     "text": [
      "Autovalores ordenados:\n",
      "[7.54474212e+04 7.30651946e+04 1.87594035e+04 2.99959757e+03\n",
      " 2.75427444e+03 1.68705748e+02 1.59631035e+01 6.71440862e+00\n",
      " 5.29666624e+00 1.99106981e+00]\n"
     ]
    }
   ],
   "source": [
    "idx = np.argsort(autovalores)[::-1]\n",
    "autovalores_ordenados = autovalores[idx]\n",
    "autovectores_ordenados = autovectores[:, idx]\n",
    "print('Autovalores ordenados:')\n",
    "print(autovalores_ordenados)\n"
   ]
  },
  {
   "cell_type": "code",
   "execution_count": null,
   "id": "f60e9610-9a22-4fd2-b834-0c18d66d941e",
   "metadata": {},
   "outputs": [],
   "source": []
  },
  {
   "cell_type": "code",
   "execution_count": 16,
   "id": "fd55d2a7-9646-4a21-a80a-aa9eb277d1f9",
   "metadata": {},
   "outputs": [
    {
     "name": "stdout",
     "output_type": "stream",
     "text": [
      "  Comp.  Autovalor (Varianza)  Proporción de varianza explicada  \\\n",
      "0   PC1          75447.421242                          0.435547   \n",
      "1   PC2          73065.194574                          0.421795   \n",
      "2   PC3          18759.403544                          0.108295   \n",
      "3   PC4           2999.597565                          0.017316   \n",
      "4   PC5           2754.274435                          0.015900   \n",
      "5   PC6            168.705748                          0.000974   \n",
      "6   PC7             15.963104                          0.000092   \n",
      "7   PC8              6.714409                          0.000039   \n",
      "8   PC9              5.296666                          0.000031   \n",
      "9  PC10              1.991070                          0.000011   \n",
      "\n",
      "   Varianza acumulada  \n",
      "0            0.435547  \n",
      "1            0.857342  \n",
      "2            0.965637  \n",
      "3            0.982953  \n",
      "4            0.998853  \n",
      "5            0.999827  \n",
      "6            0.999919  \n",
      "7            0.999958  \n",
      "8            0.999989  \n",
      "9            1.000000  \n"
     ]
    }
   ],
   "source": [
    "# Calcular proporción de varianza explicada y acumulada\n",
    "varianza_explicada = autovalores_ordenados / np.sum(autovalores_ordenados)\n",
    "varianza_acumulada = np.cumsum(varianza_explicada)\n",
    "\n",
    "# Crear DataFrame con resultados\n",
    "tabla_pca = pd.DataFrame({\n",
    "    'Comp.': [f'PC{i+1}' for i in range(len(autovalores_ordenados))],\n",
    "    'Autovalor (Varianza)': autovalores_ordenados,\n",
    "    'Proporción de varianza explicada': varianza_explicada,\n",
    "    'Varianza acumulada': varianza_acumulada\n",
    "})\n",
    "\n",
    "# Mostrar la tabla\n",
    "print(tabla_pca)"
   ]
  },
  {
   "cell_type": "markdown",
   "id": "735106af",
   "metadata": {},
   "source": [
    "### Paso 6: Proyección\n",
    "Proyectamos los datos originales sobre los componentes principales."
   ]
  },
  {
   "cell_type": "code",
   "execution_count": 17,
   "id": "025af3fb",
   "metadata": {},
   "outputs": [
    {
     "name": "stdout",
     "output_type": "stream",
     "text": [
      "          PC1         PC2         PC3\n",
      "0   70.721144  414.210909  135.267963\n",
      "1 -231.925548  366.966587  230.781049\n",
      "2 -384.958240  234.245235  -50.426129\n",
      "3 -140.177633   -0.718311  -81.131594\n",
      "4  384.740130   -1.623002  151.507745\n"
     ]
    }
   ],
   "source": [
    "# Proyectar sobre los 3 primeros componentes principales\n",
    "X_PCA = np.dot(X_centrado, autovectores_ordenados[:, :3])\n",
    "\n",
    "# Crear DataFrame con nombres de columnas\n",
    "df_PCA = pd.DataFrame(X_PCA, columns=['PC1', 'PC2', 'PC3'])\n",
    "\n",
    "# Guardar en archivo CSV\n",
    "df_PCA.to_csv(\"X_ventas_PCA3.csv\", index=False)\n",
    "\n",
    "# Mostrar primeras filas\n",
    "print(df_PCA.head())"
   ]
  },
  {
   "cell_type": "code",
   "execution_count": null,
   "id": "26e92ef4-4776-407f-846e-3c4d73ec9d83",
   "metadata": {},
   "outputs": [],
   "source": []
  }
 ],
 "metadata": {
  "kernelspec": {
   "display_name": "venv (3.11.9)",
   "language": "python",
   "name": "python3"
  },
  "language_info": {
   "codemirror_mode": {
    "name": "ipython",
    "version": 3
   },
   "file_extension": ".py",
   "mimetype": "text/x-python",
   "name": "python",
   "nbconvert_exporter": "python",
   "pygments_lexer": "ipython3",
   "version": "3.11.9"
  }
 },
 "nbformat": 4,
 "nbformat_minor": 5
}
