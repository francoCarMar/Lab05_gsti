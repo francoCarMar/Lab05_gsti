{
 "cells": [
  {
   "cell_type": "markdown",
   "id": "2d6eca3a",
   "metadata": {},
   "source": [
    "# 1. Carga de datos"
   ]
  },
  {
   "cell_type": "code",
   "execution_count": 1,
   "id": "2ad60aa4",
   "metadata": {},
   "outputs": [],
   "source": [
    "from sklearn.feature_selection import VarianceThreshold\n",
    "from sklearn.datasets import load_iris\n",
    "# Cargamos el dataset\n",
    "data = load_iris()\n",
    "X = data.data\n",
    "y = data.target"
   ]
  },
  {
   "cell_type": "markdown",
   "id": "ec7b283c",
   "metadata": {},
   "source": [
    "# 2. Eliminamos características cuya varianza sea menor al umbral (0.5)"
   ]
  },
  {
   "cell_type": "code",
   "execution_count": 2,
   "id": "c543d9ca",
   "metadata": {},
   "outputs": [
    {
     "name": "stdout",
     "output_type": "stream",
     "text": [
      "Shape después de aplicar VarianceThreshold: (150, 3)\n"
     ]
    }
   ],
   "source": [
    "selector = VarianceThreshold(threshold=0.5)\n",
    "X_selected = selector.fit_transform(X)\n",
    "print(f\"Shape después de aplicar VarianceThreshold: {X_selected.shape}\")"
   ]
  }
 ],
 "metadata": {
  "kernelspec": {
   "display_name": "venv (3.11.9)",
   "language": "python",
   "name": "python3"
  },
  "language_info": {
   "codemirror_mode": {
    "name": "ipython",
    "version": 3
   },
   "file_extension": ".py",
   "mimetype": "text/x-python",
   "name": "python",
   "nbconvert_exporter": "python",
   "pygments_lexer": "ipython3",
   "version": "3.11.9"
  }
 },
 "nbformat": 4,
 "nbformat_minor": 5
}
