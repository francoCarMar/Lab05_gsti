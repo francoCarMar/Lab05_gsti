{
 "cells": [
  {
   "cell_type": "markdown",
   "id": "b417d55d",
   "metadata": {},
   "source": [
    "## 1. Carga de dataset"
   ]
  },
  {
   "cell_type": "code",
   "execution_count": 4,
   "id": "ea93f4da",
   "metadata": {},
   "outputs": [],
   "source": [
    "from sklearn.decomposition import PCA\n",
    "from sklearn.datasets import load_iris\n",
    "data = load_iris()\n",
    "X = data.data\n",
    "y = data.target"
   ]
  },
  {
   "cell_type": "markdown",
   "id": "7bf85213",
   "metadata": {},
   "source": [
    "# 2. Reducción de dimensionalidad "
   ]
  },
  {
   "cell_type": "code",
   "execution_count": 6,
   "id": "f26dab97",
   "metadata": {},
   "outputs": [
    {
     "name": "stdout",
     "output_type": "stream",
     "text": [
      "Shape después de PCA: (150, 2)\n"
     ]
    }
   ],
   "source": [
    "pca = PCA(n_components=2)\n",
    "X_reduced = pca.fit_transform(X)\n",
    "\n",
    "print(\"Shape después de PCA:\", X_reduced.shape)"
   ]
  }
 ],
 "metadata": {
  "kernelspec": {
   "display_name": "venv (3.11.9)",
   "language": "python",
   "name": "python3"
  },
  "language_info": {
   "codemirror_mode": {
    "name": "ipython",
    "version": 3
   },
   "file_extension": ".py",
   "mimetype": "text/x-python",
   "name": "python",
   "nbconvert_exporter": "python",
   "pygments_lexer": "ipython3",
   "version": "3.11.9"
  }
 },
 "nbformat": 4,
 "nbformat_minor": 5
}
